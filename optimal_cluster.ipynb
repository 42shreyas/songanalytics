{
 "cells": [
  {
   "cell_type": "markdown",
   "metadata": {},
   "source": [
    "Run the below in datacamp - https://app.datacamp.com/workspace/w/bd137770-cb8a-4610-8823-823661d27203/edit"
   ]
  },
  {
   "cell_type": "code",
   "execution_count": null,
   "metadata": {},
   "outputs": [],
   "source": [
    "if(!require('factoextra')) {\n",
    "    install.packages('factoextra')\n",
    "    library('factoextra')\n",
    "}"
   ]
  },
  {
   "cell_type": "code",
   "execution_count": null,
   "metadata": {},
   "outputs": [],
   "source": [
    "set.seed(123)\n",
    "\n",
    "# Data preparation\n",
    "# +++++++++++++++\n",
    "cluster_data <- read.csv(\"./cluster_data.csv\")\n",
    "rownames(cluster_data) <- cluster_data[,1]\n",
    "\n",
    "cluster_data <- cluster_data[,-1]\n",
    "head(cluster_data)\n",
    "# Remove species column (5) and scale the data\n",
    "cluster_data.scaled <- scale(cluster_data[, -5])\n",
    "\n",
    "\n",
    "# Optimal number of clusters in the data\n",
    "# ++++++++++++++++++++++++++++++++++++++\n",
    "# Examples are provided only for kmeans, but\n",
    "# you can also use cluster::pam (for pam) or\n",
    "#  hcut (for hierarchical clustering)\n",
    " \n",
    "### Elbow method (look at the knee)\n",
    "# Elbow method for kmeans\n",
    "fviz_nbclust(cluster_data.scaled, kmeans, method = \"wss\") +\n",
    "geom_vline(xintercept = 3, linetype = 2)\n",
    "\n",
    "# Average silhouette for kmeans\n",
    "fviz_nbclust(cluster_data.scaled, kmeans, method = \"silhouette\")\n",
    "\n",
    "### Gap statistic\n",
    "library(cluster)\n",
    "set.seed(123)\n",
    "# Compute gap statistic for kmeans\n",
    "# we used B = 10 for demo. Recommended value is ~500\n",
    "gap_stat <- clusGap(cluster_data.scaled, FUN = kmeans, nstart = 25,\n",
    " K.max = 10, B = 10)\n",
    " print(gap_stat, method = \"firstmax\")\n",
    "fviz_gap_stat(gap_stat)\n",
    " \n",
    "# Gap statistic for hierarchical clustering\n",
    "gap_stat <- clusGap(cluster_data.scaled, FUN = hcut, K.max = 10, B = 10)\n",
    "fviz_gap_stat(gap_stat)\n",
    "\n",
    " \n"
   ]
  }
 ],
 "metadata": {
  "language_info": {
   "name": "python"
  },
  "orig_nbformat": 4
 },
 "nbformat": 4,
 "nbformat_minor": 2
}
