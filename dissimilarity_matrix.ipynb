{
 "cells": [
  {
   "cell_type": "markdown",
   "metadata": {},
   "source": [
    "Run the below in datacamp - https://app.datacamp.com/workspace/w/bd137770-cb8a-4610-8823-823661d27203/edit"
   ]
  },
  {
   "cell_type": "code",
   "execution_count": null,
   "metadata": {},
   "outputs": [
    {
     "ename": "",
     "evalue": "",
     "output_type": "error",
     "traceback": [
      "\u001b[1;31mRunning cells with 'Python 3.8.3 ('python_stable')' requires ipykernel package.\n",
      "Run the following command to install 'ipykernel' into the Python environment. \n",
      "Command: 'conda install -n python_stable ipykernel --update-deps --force-reinstall'"
     ]
    }
   ],
   "source": [
    "if(!require('factoextra')) {\n",
    "    install.packages('factoextra')\n",
    "    library('factoextra')\n",
    "}"
   ]
  },
  {
   "cell_type": "code",
   "execution_count": null,
   "metadata": {},
   "outputs": [],
   "source": [
    "cluster_data <- read.csv(\"./cluster_data.csv\")\n",
    "rownames(cluster_data) <- cluster_data[,1]\n",
    "\n",
    "cluster_data <- test[,-1]\n",
    "head(cluster_data)\n",
    "\n",
    "res.dist <- get_dist(cluster_data, stand = TRUE, method = \"pearson\")\n",
    "\n",
    "fviz_dist(res.dist, \n",
    "   gradient = list(low = \"red\", mid = \"white\", high = \"blue\"))"
   ]
  },
  {
   "cell_type": "markdown",
   "metadata": {},
   "source": []
  },
  {
   "cell_type": "markdown",
   "metadata": {},
   "source": []
  }
 ],
 "metadata": {
  "interpreter": {
   "hash": "9aeb172733c0cb877f1e23c43ceab62873213b5f3b6b29c46f2a38ffd760ea47"
  },
  "kernelspec": {
   "display_name": "Python 3.8.3 ('python_stable')",
   "language": "python",
   "name": "python3"
  },
  "language_info": {
   "name": "python",
   "version": "3.8.3"
  },
  "orig_nbformat": 4
 },
 "nbformat": 4,
 "nbformat_minor": 2
}
